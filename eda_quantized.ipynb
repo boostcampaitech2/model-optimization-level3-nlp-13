{
 "cells": [
  {
   "cell_type": "code",
   "execution_count": 1,
   "metadata": {},
   "outputs": [
    {
     "data": {
      "text/plain": [
       "['qnnpack', 'none', 'fbgemm']"
      ]
     },
     "execution_count": 1,
     "metadata": {},
     "output_type": "execute_result"
    }
   ],
   "source": [
    "import torch\n",
    "\n",
    "torch.backends.quantized.supported_engines"
   ]
  },
  {
   "cell_type": "code",
   "execution_count": null,
   "metadata": {},
   "outputs": [],
   "source": [
    " import torchvision\n",
    "\n",
    "torch.backends.quantized.engine = \"qnnpack\"\n",
    "device = torch.device(device)\n",
    "torch.backends.cudnn.benchmark = True\n",
    "\n",
    "model = torchvision.models.quantization.__dict__[\"mobilenet_v3_large\"](pretrained=True)#, quantize=args.test_only)\n",
    "model.to(device)\n",
    "\n",
    "model.fuse_model()\n",
    "model.qconfig = torch.quantization.get_default_qat_qconfig(\"qnnpack\")\n",
    "torch.quantization.prepare_qat(model, inplace=True)\n",
    "checkpoint = torch.load(\"/opt/ml/code/mobile_q/model_89.pth\", map_location='cpu')\n",
    "model.load_state_dict(checkpoint['model'])"
   ]
  }
 ],
 "metadata": {
  "interpreter": {
   "hash": "e31c68abf1d5dd3f9e2269f23eadf1b199587e56c0618a30760176a65ebfcab4"
  },
  "kernelspec": {
   "display_name": "Python 3.7.11 64-bit ('lightweight': conda)",
   "language": "python",
   "name": "python3"
  },
  "language_info": {
   "codemirror_mode": {
    "name": "ipython",
    "version": 3
   },
   "file_extension": ".py",
   "mimetype": "text/x-python",
   "name": "python",
   "nbconvert_exporter": "python",
   "pygments_lexer": "ipython3",
   "version": "3.7.11"
  },
  "orig_nbformat": 4
 },
 "nbformat": 4,
 "nbformat_minor": 2
}
